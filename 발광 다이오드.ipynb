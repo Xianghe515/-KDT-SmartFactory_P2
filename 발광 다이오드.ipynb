{
 "cells": [
  {
   "cell_type": "code",
   "execution_count": 18,
   "metadata": {},
   "outputs": [
    {
     "name": "stdout",
     "output_type": "stream",
     "text": [
      "0\n",
      "1\n",
      "2\n"
     ]
    }
   ],
   "source": [
    "import time\n",
    "import RPi.GPIO as GPIO\n",
    "\n",
    "GPIO.setmode(GPIO.BCM)\n",
    "GPIO.setup(18, GPIO.OUT)\n",
    "GPIO.setup(23, GPIO.OUT)\n",
    "GPIO.setup(24, GPIO.OUT)\n",
    "for loop in range(0, 3):\n",
    "    print(loop)\n",
    "\n",
    "    GPIO.output(18, True)\n",
    "    time.sleep(1)\n",
    "    GPIO.output(23, True)\n",
    "    time.sleep(1)\n",
    "    GPIO.output(24, True)\n",
    "    time.sleep(1)\n",
    "    GPIO.output(18, False)\n",
    "    time.sleep(1)\n",
    "    GPIO.output(23, False)\n",
    "    time.sleep(1)\n",
    "    GPIO.output(24, False)\n",
    "    time.sleep(1)\n",
    "\n",
    "GPIO.cleanup()"
   ]
  },
  {
   "cell_type": "code",
   "execution_count": null,
   "metadata": {},
   "outputs": [
    {
     "name": "stdout",
     "output_type": "stream",
     "text": [
      "Looking in indexes: https://pypi.org/simple, https://www.piwheels.org/simple\n",
      "Collecting RPi.GPIO\n",
      "  Downloading RPi.GPIO-0.7.1.tar.gz (29 kB)\n",
      "  Preparing metadata (setup.py) ... \u001b[?25ldone\n",
      "\u001b[?25hInstalling collected packages: RPi.GPIO\n",
      "\u001b[33m  DEPRECATION: RPi.GPIO is being installed using the legacy 'setup.py install' method, because it does not have a 'pyproject.toml' and the 'wheel' package is not installed. pip 23.1 will enforce this behaviour change. A possible replacement is to enable the '--use-pep517' option. Discussion can be found at https://github.com/pypa/pip/issues/8559\u001b[0m\u001b[33m\n",
      "\u001b[0m  Running setup.py install for RPi.GPIO ... \u001b[?25ldone\n",
      "\u001b[?25hSuccessfully installed RPi.GPIO-0.7.1\n"
     ]
    }
   ],
   "source": [
    "# !pip install RPi.GPIO"
   ]
  }
 ],
 "metadata": {
  "kernelspec": {
   "display_name": "venv",
   "language": "python",
   "name": "python3"
  },
  "language_info": {
   "codemirror_mode": {
    "name": "ipython",
    "version": 3
   },
   "file_extension": ".py",
   "mimetype": "text/x-python",
   "name": "python",
   "nbconvert_exporter": "python",
   "pygments_lexer": "ipython3",
   "version": "3.11.2"
  }
 },
 "nbformat": 4,
 "nbformat_minor": 2
}
