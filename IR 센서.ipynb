{
 "cells": [
  {
   "cell_type": "code",
   "execution_count": 1,
   "id": "24f9bf42",
   "metadata": {},
   "outputs": [
    {
     "name": "stdout",
     "output_type": "stream",
     "text": [
      "Undetected\n",
      "Undetected\n",
      "Undetected\n",
      "Undetected\n",
      "Detected\n",
      "Detected\n",
      "Undetected\n",
      "Undetected\n",
      "Detected\n",
      "Undetected\n",
      "Undetected\n",
      "Undetected\n",
      "Detected\n",
      "Undetected\n",
      "Detected\n",
      "Undetected\n",
      "Undetected\n",
      "Undetected\n",
      "Undetected\n",
      "Undetected\n",
      "Undetected\n",
      "Undetected\n",
      "Undetected\n",
      "Undetected\n",
      "Undetected\n",
      "Detected\n",
      "Detected\n",
      "Undetected\n",
      "Detected\n",
      "Detected\n",
      "Detected\n",
      "Detected\n",
      "Detected\n",
      "Detected\n",
      "Detected\n",
      "종료\n"
     ]
    }
   ],
   "source": [
    "import time\n",
    "import RPi.GPIO as GPIO\n",
    "\n",
    "IR = 23     # IR 센서의 out 부분이 연결된 GPIO(위에서 Data부분)\n",
    "\n",
    "GPIO.setmode(GPIO.BCM)\n",
    "GPIO.setup(IR, GPIO.IN)   # 입력 센서로 설정\n",
    "# GPIO.setup()\n",
    "try:\n",
    "    while True:\n",
    "        ir_state = GPIO.input(IR)\n",
    "        if ir_state == False:  # 감지시 동작은 확인!!  특정 거리 안에 들어오면 0을 반환\n",
    "            print(\"Detected\")\n",
    "            time.sleep(1)\n",
    "        else:\n",
    "            print(\"Undetected\")\n",
    "            time.sleep(1)\n",
    "except KeyboardInterrupt:\n",
    "    time.sleep(1)\n",
    "    print(\"종료\")\n",
    "    GPIO.cleanup()\n"
   ]
  }
 ],
 "metadata": {
  "kernelspec": {
   "display_name": "venv",
   "language": "python",
   "name": "python3"
  },
  "language_info": {
   "codemirror_mode": {
    "name": "ipython",
    "version": 3
   },
   "file_extension": ".py",
   "mimetype": "text/x-python",
   "name": "python",
   "nbconvert_exporter": "python",
   "pygments_lexer": "ipython3",
   "version": "3.11.2"
  }
 },
 "nbformat": 4,
 "nbformat_minor": 5
}
