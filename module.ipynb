{
 "cells": [
  {
   "cell_type": "code",
   "execution_count": 1,
   "id": "3529c6a4",
   "metadata": {},
   "outputs": [
    {
     "name": "stdout",
     "output_type": "stream",
     "text": [
      "\n",
      "   - \n",
      "                                                                                                                        \n",
      "\n",
      "  ███████████████▒▒▒▒▒▒▒▒▒▒▒▒▒▒▒  1024 KB / 1.88 MB\n",
      "  ██████████████████████████████  1.88 MB / 1.88 MB\n",
      "                                                                                                                        \n",
      "\n",
      "  ▒▒▒▒▒▒▒▒▒▒▒▒▒▒▒▒▒▒▒▒▒▒▒▒▒▒▒▒▒▒  0%\n",
      "  ▒▒▒▒▒▒▒▒▒▒▒▒▒▒▒▒▒▒▒▒▒▒▒▒▒▒▒▒▒▒  0%\n",
      "  ▒▒▒▒▒▒▒▒▒▒▒▒▒▒▒▒▒▒▒▒▒▒▒▒▒▒▒▒▒▒  1%\n",
      "  ▒▒▒▒▒▒▒▒▒▒▒▒▒▒▒▒▒▒▒▒▒▒▒▒▒▒▒▒▒▒  2%\n",
      "  ▒▒▒▒▒▒▒▒▒▒▒▒▒▒▒▒▒▒▒▒▒▒▒▒▒▒▒▒▒▒  3%\n",
      "  █▒▒▒▒▒▒▒▒▒▒▒▒▒▒▒▒▒▒▒▒▒▒▒▒▒▒▒▒▒  4%\n",
      "  █▒▒▒▒▒▒▒▒▒▒▒▒▒▒▒▒▒▒▒▒▒▒▒▒▒▒▒▒▒  5%\n",
      "  ██▒▒▒▒▒▒▒▒▒▒▒▒▒▒▒▒▒▒▒▒▒▒▒▒▒▒▒▒  7%\n",
      "  ██▒▒▒▒▒▒▒▒▒▒▒▒▒▒▒▒▒▒▒▒▒▒▒▒▒▒▒▒  8%\n",
      "  ██▒▒▒▒▒▒▒▒▒▒▒▒▒▒▒▒▒▒▒▒▒▒▒▒▒▒▒▒  9%\n",
      "  ███▒▒▒▒▒▒▒▒▒▒▒▒▒▒▒▒▒▒▒▒▒▒▒▒▒▒▒  10%\n",
      "  ███▒▒▒▒▒▒▒▒▒▒▒▒▒▒▒▒▒▒▒▒▒▒▒▒▒▒▒  11%\n",
      "  ███▒▒▒▒▒▒▒▒▒▒▒▒▒▒▒▒▒▒▒▒▒▒▒▒▒▒▒  12%\n",
      "  ███▒▒▒▒▒▒▒▒▒▒▒▒▒▒▒▒▒▒▒▒▒▒▒▒▒▒▒  13%\n",
      "  ████▒▒▒▒▒▒▒▒▒▒▒▒▒▒▒▒▒▒▒▒▒▒▒▒▒▒  15%\n",
      "  ████▒▒▒▒▒▒▒▒▒▒▒▒▒▒▒▒▒▒▒▒▒▒▒▒▒▒  16%\n",
      "  █████▒▒▒▒▒▒▒▒▒▒▒▒▒▒▒▒▒▒▒▒▒▒▒▒▒  17%\n",
      "  █████▒▒▒▒▒▒▒▒▒▒▒▒▒▒▒▒▒▒▒▒▒▒▒▒▒  18%\n",
      "  ██████▒▒▒▒▒▒▒▒▒▒▒▒▒▒▒▒▒▒▒▒▒▒▒▒  20%\n",
      "  ██████▒▒▒▒▒▒▒▒▒▒▒▒▒▒▒▒▒▒▒▒▒▒▒▒  22%\n",
      "  ███████▒▒▒▒▒▒▒▒▒▒▒▒▒▒▒▒▒▒▒▒▒▒▒  24%\n",
      "  ███████▒▒▒▒▒▒▒▒▒▒▒▒▒▒▒▒▒▒▒▒▒▒▒  25%\n",
      "  ███████▒▒▒▒▒▒▒▒▒▒▒▒▒▒▒▒▒▒▒▒▒▒▒  26%\n",
      "  ████████▒▒▒▒▒▒▒▒▒▒▒▒▒▒▒▒▒▒▒▒▒▒  27%\n",
      "  ████████▒▒▒▒▒▒▒▒▒▒▒▒▒▒▒▒▒▒▒▒▒▒  28%\n",
      "  ████████▒▒▒▒▒▒▒▒▒▒▒▒▒▒▒▒▒▒▒▒▒▒  28%\n",
      "  █████████▒▒▒▒▒▒▒▒▒▒▒▒▒▒▒▒▒▒▒▒▒  30%\n",
      "  █████████▒▒▒▒▒▒▒▒▒▒▒▒▒▒▒▒▒▒▒▒▒  31%\n",
      "  █████████▒▒▒▒▒▒▒▒▒▒▒▒▒▒▒▒▒▒▒▒▒  32%\n",
      "  █████████▒▒▒▒▒▒▒▒▒▒▒▒▒▒▒▒▒▒▒▒▒  33%\n",
      "  ██████████▒▒▒▒▒▒▒▒▒▒▒▒▒▒▒▒▒▒▒▒  34%\n",
      "  ██████████▒▒▒▒▒▒▒▒▒▒▒▒▒▒▒▒▒▒▒▒  35%\n",
      "  ██████████▒▒▒▒▒▒▒▒▒▒▒▒▒▒▒▒▒▒▒▒  36%\n",
      "  ███████████▒▒▒▒▒▒▒▒▒▒▒▒▒▒▒▒▒▒▒  37%\n",
      "  ███████████▒▒▒▒▒▒▒▒▒▒▒▒▒▒▒▒▒▒▒  38%\n",
      "  ███████████▒▒▒▒▒▒▒▒▒▒▒▒▒▒▒▒▒▒▒  39%\n",
      "  ████████████▒▒▒▒▒▒▒▒▒▒▒▒▒▒▒▒▒▒  40%\n",
      "  ████████████▒▒▒▒▒▒▒▒▒▒▒▒▒▒▒▒▒▒  41%\n",
      "  ████████████▒▒▒▒▒▒▒▒▒▒▒▒▒▒▒▒▒▒  42%\n",
      "  ████████████▒▒▒▒▒▒▒▒▒▒▒▒▒▒▒▒▒▒  43%\n",
      "  █████████████▒▒▒▒▒▒▒▒▒▒▒▒▒▒▒▒▒  44%\n",
      "  █████████████▒▒▒▒▒▒▒▒▒▒▒▒▒▒▒▒▒  45%\n",
      "  █████████████▒▒▒▒▒▒▒▒▒▒▒▒▒▒▒▒▒  46%\n",
      "  ██████████████▒▒▒▒▒▒▒▒▒▒▒▒▒▒▒▒  47%\n",
      "  ██████████████▒▒▒▒▒▒▒▒▒▒▒▒▒▒▒▒  48%\n",
      "  ██████████████▒▒▒▒▒▒▒▒▒▒▒▒▒▒▒▒  49%\n",
      "  ███████████████▒▒▒▒▒▒▒▒▒▒▒▒▒▒▒  50%\n",
      "  ███████████████▒▒▒▒▒▒▒▒▒▒▒▒▒▒▒  51%\n",
      "  ███████████████▒▒▒▒▒▒▒▒▒▒▒▒▒▒▒  52%\n",
      "  ███████████████▒▒▒▒▒▒▒▒▒▒▒▒▒▒▒  53%\n",
      "  █████████████████▒▒▒▒▒▒▒▒▒▒▒▒▒  59%\n",
      "  ██████████████████▒▒▒▒▒▒▒▒▒▒▒▒  63%\n",
      "  ███████████████████████▒▒▒▒▒▒▒  77%\n",
      "  █████████████████████████████▒  99%\n",
      "  █████████████████████████████▒  99%\n",
      "  ██████████████████████████████  100%\n",
      "                                                                                                                        \n",
      "\n",
      "   - \n",
      "   \\ \n",
      "                                                                                                                        \n",
      "이미 설치된 기존 패키지를 찾았습니다. 설치된 패키지를 업그레이드하는 중...\n",
      "사용 가능한 업그레이드를 찾을 수 없습니다.\n",
      "구성된 원본에서 사용할 수 있는 최신 패키지 버전이 없습니다.\n"
     ]
    }
   ],
   "source": [
    "# fnm 다운로드 및 설치:\n",
    "!winget install Schniz.fnm"
   ]
  },
  {
   "cell_type": "code",
   "execution_count": 2,
   "id": "c6680cab",
   "metadata": {},
   "outputs": [
    {
     "name": "stdout",
     "output_type": "stream",
     "text": [
      "Installing \u001b[36mNode v22.15.1\u001b[0m (x64)\n"
     ]
    },
    {
     "name": "stderr",
     "output_type": "stream",
     "text": [
      "\u001b[1;33mwarning:\u001b[0m Version already installed at \"C:\\\\Users\\\\Admin\\\\AppData\\\\Roaming\\\\fnm\\\\node-versions\\\\v22.15.1\"\n",
      "'node'��(��) ���� �Ǵ� �ܺ� ����, ������ �� �ִ� ���α׷�, �Ǵ�\n",
      "��ġ ������ �ƴմϴ�.\n",
      "'npm'��(��) ���� �Ǵ� �ܺ� ����, ������ �� �ִ� ���α׷�, �Ǵ�\n",
      "��ġ ������ �ƴմϴ�.\n"
     ]
    }
   ],
   "source": [
    "# Node.js 다운로드 및 설치:\n",
    "\"\"\"fnm 명령어 못 찾는 경우 VSCode 재실행\"\"\"\n",
    "!fnm install 22\n",
    "\n",
    "# 버전 확인\n",
    "!node -v\n",
    "!npm -v"
   ]
  },
  {
   "cell_type": "code",
   "execution_count": null,
   "id": "3565b7ba",
   "metadata": {},
   "outputs": [
    {
     "name": "stdout",
     "output_type": "stream",
     "text": [
      "\n",
      "added 723 packages, and audited 726 packages in 17s\n",
      "\n",
      "108 packages are looking for funding\n",
      "  run `npm fund` for details\n",
      "\n",
      "21 vulnerabilities (11 moderate, 9 high, 1 critical)\n",
      "\n",
      "To address all issues, run:\n",
      "  npm audit fix\n",
      "\n",
      "Run `npm audit` for details.\n"
     ]
    },
    {
     "name": "stderr",
     "output_type": "stream",
     "text": [
      "npm warn deprecated source-map-resolve@0.6.0: See https://github.com/lydell/source-map-resolve#deprecated\n",
      "npm warn deprecated querystring@0.2.0: The querystring API is considered Legacy. new code should use the URLSearchParams API instead.\n"
     ]
    },
    {
     "name": "stdout",
     "output_type": "stream",
     "text": [
      "\n",
      "> make-sense@1.11.0-alpha build\n",
      "> vite build\n",
      "\n",
      "\u001b[36mvite v3.0.2 \u001b[32mbuilding for production...\u001b[36m\u001b[39m\n",
      "transforming...\n",
      "\u001b[32m✓\u001b[39m 2698 modules transformed.\n",
      "rendering chunks...\n",
      "\u001b[90m\u001b[37m\u001b[2mdist/\u001b[22m\u001b[90m\u001b[39m\u001b[32mindex.html                      \u001b[39m \u001b[2m2.45 KiB\u001b[22m\n",
      "\u001b[90m\u001b[37m\u001b[2mdist/\u001b[22m\u001b[90m\u001b[39m\u001b[36massets/classnames.d8e93af2.js   \u001b[39m \u001b[2m0.62 KiB / gzip: 0.41 KiB\u001b[22m\n",
      "\u001b[90m\u001b[37m\u001b[2mdist/\u001b[22m\u001b[90m\u001b[39m\u001b[36massets/runtime.4322dc20.js      \u001b[39m \u001b[2m8.56 KiB / gzip: 3.12 KiB\u001b[22m\n",
      "\u001b[90m\u001b[37m\u001b[2mdist/\u001b[22m\u001b[90m\u001b[39m\u001b[36massets/models.aaa19d0d.js       \u001b[39m \u001b[2m22.74 KiB / gzip: 7.88 KiB\u001b[22m\n",
      "\u001b[90m\u001b[37m\u001b[2mdist/\u001b[22m\u001b[90m\u001b[39m\u001b[35massets/index.3f4c5acc.css       \u001b[39m \u001b[2m50.76 KiB / gzip: 6.45 KiB\u001b[22m\n",
      "\u001b[90m\u001b[37m\u001b[2mdist/\u001b[22m\u001b[90m\u001b[39m\u001b[36massets/lodash.d2fc0bf8.js       \u001b[39m \u001b[2m69.86 KiB / gzip: 24.86 KiB\u001b[22m\n",
      "\u001b[90m\u001b[37m\u001b[2mdist/\u001b[22m\u001b[90m\u001b[39m\u001b[36massets/moment.9709ab41.js       \u001b[39m \u001b[2m57.72 KiB / gzip: 18.35 KiB\u001b[22m\n",
      "\u001b[90m\u001b[37m\u001b[2mdist/\u001b[22m\u001b[90m\u001b[39m\u001b[36massets/runtime-dom.205109c8.js  \u001b[39m \u001b[2m130.37 KiB / gzip: 42.01 KiB\u001b[22m\n",
      "\u001b[90m\u001b[37m\u001b[2mdist/\u001b[22m\u001b[90m\u001b[39m\u001b[36massets/ui.25192fac.js           \u001b[39m \u001b[2m193.59 KiB / gzip: 64.46 KiB\u001b[22m\n",
      "\u001b[90m\u001b[37m\u001b[2mdist/\u001b[22m\u001b[90m\u001b[39m\u001b[36massets/index.de2cfa98.js        \u001b[39m \u001b[2m402.95 KiB / gzip: 121.16 KiB\u001b[22m\n",
      "\u001b[90m\u001b[37m\u001b[2mdist/\u001b[22m\u001b[90m\u001b[39m\u001b[36massets/ai.c571b435.js           \u001b[39m \u001b[2m1601.46 KiB / gzip: 257.95 KiB\u001b[22m\n"
     ]
    },
    {
     "name": "stderr",
     "output_type": "stream",
     "text": [
      "Browserslist: caniuse-lite is outdated. Please run:\n",
      "  npx update-browserslist-db@latest\n",
      "  Why you should do it regularly: https://github.com/browserslist/update-db#readme\n"
     ]
    }
   ],
   "source": [
    "# 디렉토리 위치 makesense로 이동\n",
    "import os\n",
    "os.chdir('makesense')\n",
    "\n",
    "# 설치 및 빌드\n",
    "!npm install\n",
    "!npm run build"
   ]
  }
 ],
 "metadata": {
  "kernelspec": {
   "display_name": "venv",
   "language": "python",
   "name": "python3"
  },
  "language_info": {
   "codemirror_mode": {
    "name": "ipython",
    "version": 3
   },
   "file_extension": ".py",
   "mimetype": "text/x-python",
   "name": "python",
   "nbconvert_exporter": "python",
   "pygments_lexer": "ipython3",
   "version": "3.13.0"
  }
 },
 "nbformat": 4,
 "nbformat_minor": 5
}
